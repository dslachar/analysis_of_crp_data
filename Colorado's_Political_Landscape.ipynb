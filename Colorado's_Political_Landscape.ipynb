{
 "cells": [
  {
   "cell_type": "code",
   "execution_count": null,
   "metadata": {},
   "outputs": [],
   "source": [
    "import pandas as pd\n",
    "import seaborn as sns\n",
    "import numpy as np\n",
    "import matplotlib.pyplot as plt\n",
    "from collections import defaultdict"
   ]
  },
  {
   "cell_type": "markdown",
   "metadata": {},
   "source": [
    "# Data Set and Motivation"
   ]
  },
  {
   "cell_type": "markdown",
   "metadata": {},
   "source": [
    "Since the mid-1980s the amount spent on political elections by campaigns and outside groups, measured by the Federal Election Committee, has grown by 555 percent nationwide. While voting ultimately determines the result of any given election, analyzing political contributions can signal how passionate and invested individuals are in the success of a given candidate. In this report we will assess the political climate in Colorado through focusing on individual campaign finance contributions from 1992 through 2016.  "
   ]
  },
  {
   "cell_type": "markdown",
   "metadata": {},
   "source": [
    "The data used in this report is from the Center for Responsive Politics (CRP), an independent and nonprofit research group that collects political finance data. All 50 states require disclosures to be filed as a means of transparency and as a means to regulate money spent in elections. These disclosures are filed through the Federal Election Committee (FEC), the independent regulatory agency charged with administering and enforcing federal campaign finance law. The CRP uses public FEC fillings as the source for their data. The metadata used in this report can be found in the link below:\n",
    "https://www.opensecrets.org/resources/datadictionary/UserGuide.pdf"
   ]
  },
  {
   "cell_type": "markdown",
   "metadata": {},
   "source": [
    "Our report will utilize two data tables accross seven political cycles. The first table is individual contribution data, which includes 23 attributes including contribution amounts and political affiliation of recipient. Additionally, we will utilize the candidate table which includes 12 attributes and provides all candidites who recieved contributions in a given cycle. Samples of the two tables will be shown in subsequent pages. "
   ]
  },
  {
   "cell_type": "markdown",
   "metadata": {},
   "source": [
    "# Actual Task and Research Questions"
   ]
  },
  {
   "cell_type": "markdown",
   "metadata": {},
   "source": [
    "The political landscape of Colorado has evolved rapidly over the last quarter century. While once a solidly conservative state, Colorado’s changing culture and influx of new residents from other regions has shifted Colorado’s politics more progressive. As shown in the chart below, both houses of Colorado's state assembly were typically controlled by Republicans from 1992 through the mid 2000's. However, since the late 2000's through 2013, Democrats have controlled both houses in addition to the Governer's seat. \n",
    "\n"
   ]
  },
  {
   "cell_type": "markdown",
   "metadata": {},
   "source": [
    "<img src=\"screen_shots/col_political_trends chart.png\">\n",
    "*Source: https://ballotpedia.org/Colorado_General_Assembly*"
   ]
  },
  {
   "cell_type": "markdown",
   "metadata": {},
   "source": [
    "We set out to use campaign finance data to observe how these trends over the last 25 years have affected how Coloradans contribute to political campaigns by considering the following research questions:\n",
    "* What trends exist in magnitude of money given, number of donations and political affiliation?\n",
    "* Is there a relationship between the amount of money donated and candidate success in elections?\n",
    "* How have political contributions evolved in different regions of the state?"
   ]
  },
  {
   "cell_type": "markdown",
   "metadata": {},
   "source": [
    "# Data Cleaning\n",
    "    - used %%script false to not run certain code blocks"
   ]
  },
  {
   "cell_type": "markdown",
   "metadata": {},
   "source": [
    "We were able to download each year’s datasets from the website; however, the datafiles were too big to upload into GitHub. The first step in our data cleaning process was to convert the datafiles into a more compact form to allow us to upload all the data into our GitHub repository. We decided to convert the data text files into pickle files. Since each campaign year contained the same four datafiles, we created four functions in our CleanUP.py code, to read in the corresponding text files into a pandas data frame to clean up and then convert the cleaned data frame into a pickle file. When reading in each text file to convert to a data frame, we had to generate our own delimiter since the text files were not separated by commas."
   ]
  },
  {
   "cell_type": "code",
   "execution_count": null,
   "metadata": {},
   "outputs": [],
   "source": [
    "# Example of the uncleaned individuals 1992 file\n",
    "! head indivs92.txt"
   ]
  },
  {
   "cell_type": "markdown",
   "metadata": {},
   "source": [
    "The individuals text file was the largest of the datafiles. Since we only wanted to focus on the state of Colorado, once the text file was read in and converted into a data frame, we only pulled out the individuals that matched with ‘CO’ in the State column. This made it faster to clean the data frame because not all the data separated into their respective columns. The amount and date columns were still grouped with the RealCode column values. Once the original data frame was created, we had to then separate those columns. Then we were able to put the data frame into a pickle file."
   ]
  },
  {
   "cell_type": "code",
   "execution_count": null,
   "metadata": {},
   "outputs": [],
   "source": [
    "# Example of the dataframe of the cleaned individuals 1992 file\n",
    "df = pd.read_pickle('analysis_of_crp_data/data/CampaignFin92/indivs92.pkl')\n",
    "df"
   ]
  },
  {
   "cell_type": "markdown",
   "metadata": {},
   "source": [
    "From the pacs text file not all the data separated into their respective columns either. The amount, date, and RealCode columns were still grouped with the CID column values. Once the original data frame was created, we had to then separate those columns. Then we were able to put the data frame into a pickle file."
   ]
  },
  {
   "cell_type": "markdown",
   "metadata": {},
   "source": [
    "The candidates text file generated a data frame that was separated correctly once the file was read in. Two symbols had to be removed from each of the end columns. Then we were able to put the data frame into a pickle file."
   ]
  },
  {
   "cell_type": "markdown",
   "metadata": {},
   "source": [
    "The pac to pac text file had many inconsistent missing values, this made it difficult to find the correct separator that would not raise a value error of length of rows not equal with one another. Since the pac to pac data files contained many unfilled values, we decided not to use this data and focus on the larger individuals data set along with the candidates and pacs."
   ]
  },
  {
   "cell_type": "markdown",
   "metadata": {},
   "source": [
    "We then were able to upload the three pickle files from each year to our GitHub repository. We took those pickle files to read in and convert into data frames. We compiled those data frames to create a complete individuals data frame and a candidates data frame of all the years."
   ]
  },
  {
   "cell_type": "markdown",
   "metadata": {},
   "source": [
    "The individuals data frame consisted of only Colorado. We still had to pull out the candidates from Colorado. The data frame had an Orgname column with values where the first two characters were the state and the last two characters represent the office sought for. We pulled out the candidates that contained ‘CO’ in that column."
   ]
  },
  {
   "cell_type": "code",
   "execution_count": null,
   "metadata": {},
   "outputs": [],
   "source": [
    "%%script false\n",
    "cand_df.DistIDRunFor.str.contains('CO')\n",
    "candCO_df = cand_df.loc[cand_df.DistIDRunFor.str.contains('CO')]\n",
    "candCO_df.index = np.arange(len(candCO_df))"
   ]
  },
  {
   "cell_type": "code",
   "execution_count": null,
   "metadata": {},
   "outputs": [],
   "source": [
    "%%script false\n",
    "# Convert column to string remove duplicate information, 'CO' and party in Win/Loss column\n",
    "candCO_df.loc[:,'DistIDRunFor'] = candCO_df.loc[:,'DistIDRunFor'].astype(str)\n",
    "candCO_df.loc[:,'DistIDRunFor'] = candCO_df.loc[:,'DistIDRunFor'].apply(lambda x: pd.Series(str(x).replace('CO','')))\n",
    "candCO_df.loc[:,'WinLoss'] = candCO_df.loc[:,'WinLoss'].apply(lambda x: pd.Series(str(x).replace(x[:1],'')))"
   ]
  },
  {
   "cell_type": "markdown",
   "metadata": {},
   "source": [
    "In order to run visualizations on the individuals of Colorado data frame, we had to change the Amount column datatype from an object to an integer so we could perform statistic summarys on it."
   ]
  },
  {
   "cell_type": "code",
   "execution_count": null,
   "metadata": {},
   "outputs": [],
   "source": [
    "%%script false\n",
    "# change the dtype of Amount from object to integer\n",
    "indivs_df['Amount'] = indivs_df['Amount'].apply(lambda x: int(x))"
   ]
  },
  {
   "cell_type": "markdown",
   "metadata": {},
   "source": [
    "The RecipCode column in the individuals data frame contained the party the individual contributed to and if that candidate won or loss. To pull out this information we first had to assign None to missing values in the RecipCode column."
   ]
  },
  {
   "cell_type": "code",
   "execution_count": null,
   "metadata": {},
   "outputs": [],
   "source": [
    "%%script false\n",
    "import re\n",
    "\n",
    "for i in range(len(indivs_df['RecipCode'])):\n",
    "    att1 = re.search(r'[A-Z]|[0-9]',str(indivs_df.RecipCode[i]))\n",
    "    if att1 == None:\n",
    "        indivs_df.RecipCode[i] = None"
   ]
  },
  {
   "cell_type": "markdown",
   "metadata": {},
   "source": [
    "Once there were no missing values, we were able to split the RecipCode into two columns since the value was two characters, Party and Result. We pulled out the first character which represented the party, it was either a capital letter or a number and the second character was assigned to the result column. If there was no second character, then NaN was assigned."
   ]
  },
  {
   "cell_type": "code",
   "execution_count": null,
   "metadata": {},
   "outputs": [],
   "source": [
    "%%script false\n",
    "# split the RecipCode \n",
    "sub_df = indivs_df['RecipCode'].apply(lambda x: re.findall('[A-Z]|[0-9]',str(x)))\n",
    "\n",
    "# create a new df with Party and Result column and add values to them\n",
    "df= pd.DataFrame(columns=['Party','Result'])\n",
    "df['Party'] = sub_df.apply(lambda x: x[0])\n",
    "\n",
    "result = []\n",
    "for i in sub_df:\n",
    "    if len(i) < 2:\n",
    "        result.append(np.nan)\n",
    "    else:\n",
    "        result.append(i[1])\n",
    "df['Result'] = result\n",
    "\n",
    "indivs_df['RecipCode']=df['Party']\n",
    "indivs_df.insert(14,'Results',df['Result'])\n",
    "indivs_df = indivs_df.rename(columns={'RecipCode':'Party'})"
   ]
  }
 ],
 "metadata": {
  "kernelspec": {
   "display_name": "Python 3",
   "language": "python",
   "name": "python3"
  },
  "language_info": {
   "codemirror_mode": {
    "name": "ipython",
    "version": 3
   },
   "file_extension": ".py",
   "mimetype": "text/x-python",
   "name": "python",
   "nbconvert_exporter": "python",
   "pygments_lexer": "ipython3",
   "version": "3.7.0"
  }
 },
 "nbformat": 4,
 "nbformat_minor": 2
}
