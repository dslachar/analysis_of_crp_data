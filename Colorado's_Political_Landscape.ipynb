{
 "cells": [
  {
   "cell_type": "code",
   "execution_count": null,
   "metadata": {},
   "outputs": [],
   "source": [
    "import pandas as pd\n",
    "import seaborn as sns\n",
    "import numpy as np\n",
    "import matplotlib.pyplot as plt\n",
    "from collections import defaultdict"
   ]
  },
  {
   "cell_type": "markdown",
   "metadata": {},
   "source": [
    "# Data Set and Motivation"
   ]
  },
  {
   "cell_type": "markdown",
   "metadata": {},
   "source": [
    "Since the mid-1980s the amount spent on political elections by campaigns and outside groups, measured by the Federal Election Committee, has grown by 555 percent nationwide. While voting ultimately determines the result of any given election, analyzing political contributions can signal how passionate and invested individuals are in the success of a given candidate. In this report we will assess the political climate in Colorado through focusing on individual campaign finance contributions from 1992 through 2016.  "
   ]
  },
  {
   "cell_type": "markdown",
   "metadata": {},
   "source": [
    "The data used in this report is from the Center for Responsive Politics (CRP), an independent and nonprofit research group that collects political finance data. All 50 states require disclosures to be filed as a means of transparency and as a means to regulate money spent in elections. These disclosures are filed through the Federal Election Committee (FEC), the independent regulatory agency charged with administering and enforcing federal campaign finance law. The CRP uses public FEC fillings as the source for their data. The metadata used in this report can be found in the link below:\n",
    "https://www.opensecrets.org/resources/datadictionary/UserGuide.pdf"
   ]
  },
  {
   "cell_type": "markdown",
   "metadata": {},
   "source": [
    "Our report will utilize two data tables accross seven political cycles. The first table is individual contribution data, which includes 23 attributes including contribution amounts and political affiliation of recipient. Additionally, we will utilize the candidate table which includes 12 attributes and provides all candidites who recieved contributions in a given cycle. Samples of the two tables will be shown in subsequent pages. "
   ]
  },
  {
   "cell_type": "markdown",
   "metadata": {},
   "source": [
    "# Actual Task and Research Questions"
   ]
  },
  {
   "cell_type": "markdown",
   "metadata": {},
   "source": [
    "The political landscape of Colorado has evolved rapidly over the last quarter century. While once a solidly conservative state, Colorado’s changing culture and influx of new residents from other regions has caused Colorado’s politics to trend more progressive.\n",
    "## add a simple chart to demonstrate this\n",
    "We set out to observe how these trends over the last 25 years have affected how Coloradans contribute to political campaigns by considering the following research questions.\n",
    "What are the trends in magnitude of money given, number of donations and political affiliation?\n",
    "Is there a relationship between the amount of money donated and candidate success in elections?\n",
    "How have political contributions evolved in different regions of the state?\n",
    "What occupations have been most representative in political donors? \n",
    "What real-world problem you trying to solve. What is input and output of your analysis.\n",
    "We were interested in exploring Colorado’s changing political landscape  based on campaign contribution data. \n",
    "What trends can we observe in magnitude and political affiliations of individual contributions \n"
   ]
  },
  {
   "cell_type": "code",
   "execution_count": null,
   "metadata": {},
   "outputs": [],
   "source": []
  },
  {
   "cell_type": "code",
   "execution_count": null,
   "metadata": {},
   "outputs": [],
   "source": []
  }
 ],
 "metadata": {
  "kernelspec": {
   "display_name": "Python 3",
   "language": "python",
   "name": "python3"
  },
  "language_info": {
   "codemirror_mode": {
    "name": "ipython",
    "version": 3
   },
   "file_extension": ".py",
   "mimetype": "text/x-python",
   "name": "python",
   "nbconvert_exporter": "python",
   "pygments_lexer": "ipython3",
   "version": "3.6.8"
  }
 },
 "nbformat": 4,
 "nbformat_minor": 2
}
