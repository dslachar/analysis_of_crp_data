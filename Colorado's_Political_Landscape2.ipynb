{
 "cells": [
  {
   "cell_type": "code",
   "execution_count": 1,
   "metadata": {},
   "outputs": [],
   "source": [
    "import pandas as pd\n",
    "import seaborn as sns\n",
    "import numpy as np\n",
    "import matplotlib.pyplot as plt\n",
    "from collections import defaultdict\n",
    "import create_map_function"
   ]
  },
  {
   "cell_type": "markdown",
   "metadata": {},
   "source": [
    "# Data Set and Motivation"
   ]
  },
  {
   "cell_type": "markdown",
   "metadata": {},
   "source": [
    "Since the mid-1980s the amount spent on political elections by campaigns and outside groups, measured by the Federal Election Committee, has grown by 555 percent nationwide. While voting ultimately determines the result of any given election, analyzing political contributions can signal how passionate and invested individuals are in the success of a given candidate. In this report we will assess the political climate in Colorado through focusing on individual campaign finance contributions from 1992 through 2016.  "
   ]
  },
  {
   "cell_type": "markdown",
   "metadata": {},
   "source": [
    "The data used in this report is from the Center for Responsive Politics (CRP), an independent and nonprofit research group that collects political finance data. All 50 states require disclosures to be filed as a means of transparency and as a means to regulate money spent in elections. These disclosures are filed through the Federal Election Committee (FEC), the independent regulatory agency charged with administering and enforcing federal campaign finance law. The CRP uses public FEC fillings as the source for their data. The metadata used in this report can be found in the link below:\n",
    "https://www.opensecrets.org/resources/datadictionary/UserGuide.pdf"
   ]
  },
  {
   "cell_type": "markdown",
   "metadata": {},
   "source": [
    "Our report will utilize two data tables accross seven political cycles. The first table is individual contribution data, which includes 23 attributes including contribution amounts and political affiliation of recipient. Additionally, we will utilize the candidate table which includes 12 attributes and provides all candidites who recieved contributions in a given cycle. Samples of the two tables will be shown in subsequent pages. "
   ]
  },
  {
   "cell_type": "markdown",
   "metadata": {},
   "source": [
    "# Actual Task and Research Questions"
   ]
  },
  {
   "cell_type": "markdown",
   "metadata": {},
   "source": [
    "The political landscape of Colorado has evolved rapidly over the last quarter century. While once a solidly conservative state, Colorado’s changing culture and influx of new residents from other regions has shifted Colorado’s politics more progressive. As shown in the chart below, both houses of Colorado's state assembly were typically controlled by Republicans from 1992 through the mid 2000's. However, since the late 2000's through 2013, Democrats have controlled both houses in addition to the Governer's seat. \n",
    "\n"
   ]
  },
  {
   "cell_type": "markdown",
   "metadata": {},
   "source": [
    "<img src=\"screen_shots/col_political_trends chart.png\">\n",
    "*Source: https://ballotpedia.org/Colorado_General_Assembly*"
   ]
  },
  {
   "cell_type": "markdown",
   "metadata": {},
   "source": [
    "We set out to use campaign finance data to observe how these trends over the last 25 years have affected how Coloradans contribute to political campaigns by considering the following research questions:\n",
    "* What trends exist in magnitude of money given, number of donations and political affiliation?\n",
    "* Is there a relationship between the amount of money donated and candidate success in elections?\n",
    "* How have political contributions evolved in different regions of the state?"
   ]
  },
  {
   "cell_type": "markdown",
   "metadata": {},
   "source": [
    "# Data Cleaning\n",
    "    - used %%script false to not run certain code blocks"
   ]
  },
  {
   "cell_type": "markdown",
   "metadata": {},
   "source": [
    "We were able to download each year’s datasets from the website; however, the datafiles were too big to upload into GitHub. The first step in our data cleaning process was to convert the datafiles into a more compact form to allow us to upload all the data into our GitHub repository. We decided to convert the data text files into pickle files. Since each campaign year contained the same four datafiles, we created four functions in our CleanUP.py code, to read in the corresponding text files into a pandas data frame to clean up and then convert the cleaned data frame into a pickle file. When reading in each text file to convert to a data frame, we had to generate our own delimiter since the text files were not separated by commas."
   ]
  },
  {
   "cell_type": "code",
   "execution_count": null,
   "metadata": {},
   "outputs": [],
   "source": [
    "# Example of the uncleaned individuals 1992 file\n",
    "! head indivs92.txt"
   ]
  },
  {
   "cell_type": "markdown",
   "metadata": {},
   "source": [
    "The individuals text file was the largest of the datafiles. Since we only wanted to focus on the state of Colorado, once the text file was read in and converted into a data frame, we only pulled out the individuals that matched with ‘CO’ in the State column. This made it faster to clean the data frame because not all the data separated into their respective columns. The amount and date columns were still grouped with the RealCode column values. Once the original data frame was created, we had to then separate those columns. Then we were able to put the data frame into a pickle file."
   ]
  },
  {
   "cell_type": "code",
   "execution_count": null,
   "metadata": {},
   "outputs": [],
   "source": [
    "# Example of the dataframe of the cleaned individuals 1992 file\n",
    "df = pd.read_pickle('analysis_of_crp_data/data/CampaignFin92/indivs92.pkl')\n",
    "df"
   ]
  },
  {
   "cell_type": "markdown",
   "metadata": {},
   "source": [
    "From the pacs text file not all the data separated into their respective columns either. The amount, date, and RealCode columns were still grouped with the CID column values. Once the original data frame was created, we had to then separate those columns. Then we were able to put the data frame into a pickle file."
   ]
  },
  {
   "cell_type": "markdown",
   "metadata": {},
   "source": [
    "The candidates text file generated a data frame that was separated correctly once the file was read in. Two symbols had to be removed from each of the end columns. Then we were able to put the data frame into a pickle file."
   ]
  },
  {
   "cell_type": "markdown",
   "metadata": {},
   "source": [
    "The pac to pac text file had many inconsistent missing values, this made it difficult to find the correct separator that would not raise a value error of length of rows not equal with one another. Since the pac to pac data files contained many unfilled values, we decided not to use this data and focus on the larger individuals data set along with the candidates and pacs."
   ]
  },
  {
   "cell_type": "markdown",
   "metadata": {},
   "source": [
    "We then were able to upload the three pickle files from each year to our GitHub repository. We took those pickle files to read in and convert into data frames. We compiled those data frames to create a complete individuals data frame and a candidates data frame of all the years."
   ]
  },
  {
   "cell_type": "markdown",
   "metadata": {},
   "source": [
    "The individuals data frame consisted of only Colorado. We still had to pull out the candidates from Colorado. The data frame had an Orgname column with values where the first two characters were the state and the last two characters represent the office sought for. We pulled out the candidates that contained ‘CO’ in that column."
   ]
  },
  {
   "cell_type": "code",
   "execution_count": null,
   "metadata": {},
   "outputs": [],
   "source": [
    "%%script false\n",
    "cand_df.DistIDRunFor.str.contains('CO')\n",
    "candCO_df = cand_df.loc[cand_df.DistIDRunFor.str.contains('CO')]\n",
    "candCO_df.index = np.arange(len(candCO_df))"
   ]
  },
  {
   "cell_type": "code",
   "execution_count": null,
   "metadata": {},
   "outputs": [],
   "source": [
    "%%script false\n",
    "# Convert column to string remove duplicate information, 'CO' and party in Win/Loss column\n",
    "candCO_df.loc[:,'DistIDRunFor'] = candCO_df.loc[:,'DistIDRunFor'].astype(str)\n",
    "candCO_df.loc[:,'DistIDRunFor'] = candCO_df.loc[:,'DistIDRunFor'].apply(lambda x: pd.Series(str(x).replace('CO','')))\n",
    "candCO_df.loc[:,'WinLoss'] = candCO_df.loc[:,'WinLoss'].apply(lambda x: pd.Series(str(x).replace(x[:1],'')))"
   ]
  },
  {
   "cell_type": "markdown",
   "metadata": {},
   "source": [
    "In order to run visualizations on the individuals of Colorado data frame, we had to change the Amount column datatype from an object to an integer so we could perform statistic summarys on it."
   ]
  },
  {
   "cell_type": "code",
   "execution_count": null,
   "metadata": {},
   "outputs": [],
   "source": [
    "%%script false\n",
    "# change the dtype of Amount from object to integer\n",
    "indivs_df['Amount'] = indivs_df['Amount'].apply(lambda x: int(x))"
   ]
  },
  {
   "cell_type": "markdown",
   "metadata": {},
   "source": [
    "The RecipCode column in the individuals data frame contained the party the individual contributed to and if that candidate won or loss. To pull out this information we first had to assign None to missing values in the RecipCode column."
   ]
  },
  {
   "cell_type": "code",
   "execution_count": null,
   "metadata": {},
   "outputs": [],
   "source": [
    "%%script false\n",
    "import re\n",
    "\n",
    "for i in range(len(indivs_df['RecipCode'])):\n",
    "    att1 = re.search(r'[A-Z]|[0-9]',str(indivs_df.RecipCode[i]))\n",
    "    if att1 == None:\n",
    "        indivs_df.RecipCode[i] = None"
   ]
  },
  {
   "cell_type": "markdown",
   "metadata": {},
   "source": [
    "Once there were no missing values, we were able to split the RecipCode into two columns since the value was two characters, Party and Result. We pulled out the first character which represented the party, it was either a capital letter or a number and the second character was assigned to the result column. If there was no second character, then NaN was assigned."
   ]
  },
  {
   "cell_type": "code",
   "execution_count": null,
   "metadata": {},
   "outputs": [],
   "source": [
    "%%script false\n",
    "# split the RecipCode \n",
    "sub_df = indivs_df['RecipCode'].apply(lambda x: re.findall('[A-Z]|[0-9]',str(x)))\n",
    "\n",
    "# create a new df with Party and Result column and add values to them\n",
    "df= pd.DataFrame(columns=['Party','Result'])\n",
    "df['Party'] = sub_df.apply(lambda x: x[0])\n",
    "\n",
    "result = []\n",
    "for i in sub_df:\n",
    "    if len(i) < 2:\n",
    "        result.append(np.nan)\n",
    "    else:\n",
    "        result.append(i[1])\n",
    "df['Result'] = result\n",
    "\n",
    "indivs_df['RecipCode']=df['Party']\n",
    "indivs_df.insert(14,'Results',df['Result'])\n",
    "indivs_df = indivs_df.rename(columns={'RecipCode':'Party'})"
   ]
  },
  {
   "cell_type": "markdown",
   "metadata": {},
   "source": [
    "# Data Visualizations"
   ]
  },
  {
   "cell_type": "code",
   "execution_count": 2,
   "metadata": {},
   "outputs": [],
   "source": [
    "#Load data files and combine into one df\n",
    "indiv = pd.read_pickle('indivs.pkl')\n",
    "indiv16 = pd.read_pickle('indivs16.pkl')\n",
    "frames = [indiv,indiv16]\n",
    "indivDF = pd.concat(frames,ignore_index=True)"
   ]
  },
  {
   "cell_type": "code",
   "execution_count": 3,
   "metadata": {},
   "outputs": [],
   "source": [
    "cand_df = pd.read_pickle('cand_df_ALL.pkl')"
   ]
  },
  {
   "cell_type": "markdown",
   "metadata": {},
   "source": [
    "For our first visualization and initial look at the individual contributions data, we will graph the number of individual contributions made through the cycle years. For purposes of the visualization we dropped the unkown and PAC contribution data. We noted just two instances of unknown party with a total dollar value of $550. Further, PAC data was dropped to get a better idea of just individual contributions to candidates. Moreover, the 'other independent' and 'other' parties were group together to aid in the readability of the visual. "
   ]
  },
  {
   "cell_type": "code",
   "execution_count": 4,
   "metadata": {},
   "outputs": [
    {
     "name": "stderr",
     "output_type": "stream",
     "text": [
      "/Library/Frameworks/Python.framework/Versions/3.7/lib/python3.7/site-packages/pandas/core/generic.py:6517: SettingWithCopyWarning: \n",
      "A value is trying to be set on a copy of a slice from a DataFrame.\n",
      "Try using .loc[row_indexer,col_indexer] = value instead\n",
      "\n",
      "See the caveats in the documentation: http://pandas.pydata.org/pandas-docs/stable/indexing.html#indexing-view-versus-copy\n",
      "  regex=regex)\n"
     ]
    }
   ],
   "source": [
    "indivDFnoPac = indivDF.loc[np.logical_and.reduce((indivDF.Party != 'U', indivDF.Party != 'P'))]\n",
    "indivDFnoPac.replace({'Party': {'3': 'I/O', 'O': 'I/O'}}, inplace=True)"
   ]
  },
  {
   "cell_type": "markdown",
   "metadata": {},
   "source": [
    "Initaial look at size of contributions for each party for all years. "
   ]
  },
  {
   "cell_type": "code",
   "execution_count": 5,
   "metadata": {},
   "outputs": [
    {
     "data": {
      "text/plain": [
       "Party\n",
       "D      405266\n",
       "I/O      8008\n",
       "R      179833\n",
       "dtype: int64"
      ]
     },
     "execution_count": 5,
     "metadata": {},
     "output_type": "execute_result"
    }
   ],
   "source": [
    "indivDFnoPac.groupby('Party').size()"
   ]
  },
  {
   "cell_type": "code",
   "execution_count": 6,
   "metadata": {},
   "outputs": [
    {
     "data": {
      "text/plain": [
       "Text(0.5, 1.0, 'Number of Individual Contributions')"
      ]
     },
     "execution_count": 6,
     "metadata": {},
     "output_type": "execute_result"
    },
    {
     "data": {
      "image/png": "[encoded data removed]",
      "text/plain": [
       "<Figure size 414.1x360 with 1 Axes>"
      ]
     },
     "metadata": {},
     "output_type": "display_data"
    }
   ],
   "source": [
    "sns.set(style=\"darkgrid\")\n",
    "colors=['blue','red','mediumorchid']\n",
    "sns.catplot(x='Cycle',hue='Party',palette=colors,kind=\"count\", \\\n",
    "            data=indivDFnoPac)\n",
    "plt.title('Number of Individual Contributions')"
   ]
  },
  {
   "cell_type": "markdown",
   "metadata": {},
   "source": [
    "Here we can clearly note several trends in our data. Most noteably, the substantial increase in individual contributions in the 2016 cycle, particularly in the Democratic party. Further, we can note that both the 1996 and 2000 cycles more Rebublican contributions were made than Democratic contributions. This then shifts to more Democratic contributions in subsequent years. "
   ]
  },
  {
   "cell_type": "markdown",
   "metadata": {},
   "source": [
    "Because of the dramatic increase in contributions in 2016, we will investigate this further."
   ]
  },
  {
   "cell_type": "markdown",
   "metadata": {},
   "source": [
    "Alternatively, we can look at the total amounts contributed opposed to the number of individual contributions."
   ]
  },
  {
   "cell_type": "code",
   "execution_count": 7,
   "metadata": {},
   "outputs": [],
   "source": [
    "amountDF = indivDFnoPac.loc[np.logical_and.reduce((indivDFnoPac.Party != 'U', indivDFnoPac.Party != 'P'))]\\\n",
    ".groupby(['Cycle','Party'],as_index=False)['Amount'].sum()"
   ]
  },
  {
   "cell_type": "code",
   "execution_count": 8,
   "metadata": {
    "scrolled": true
   },
   "outputs": [
    {
     "data": {
      "text/plain": [
       "<seaborn.axisgrid.FacetGrid at 0x144496048>"
      ]
     },
     "execution_count": 8,
     "metadata": {},
     "output_type": "execute_result"
    },
    {
     "data": {
      "image/png": "[encoded data removed]",
      "text/plain": [
       "<Figure size 414.1x360 with 1 Axes>"
      ]
     },
     "metadata": {},
     "output_type": "display_data"
    }
   ],
   "source": [
    "colors=['blue','mediumorchid','red']\n",
    "sns.catplot(x='Cycle',y= 'Amount',hue='Party',palette=colors,kind=\"bar\", \\\n",
    "            data=amountDF)"
   ]
  },
  {
   "cell_type": "markdown",
   "metadata": {},
   "source": [
    "This gives us a much different picture than the total contributions graph above. It would seem that Rebulicans contribute more on average than Democrats do. We will confirm this below.  "
   ]
  },
  {
   "cell_type": "markdown",
   "metadata": {},
   "source": [
    "<img src=\"screen_shots/Avg_cont.png\">"
   ]
  },
  {
   "cell_type": "markdown",
   "metadata": {},
   "source": [
    "The plot above shows average contributions by party for each cycle. While, 1996 and 2008 saw average contributions for the Democratic party exceed that of the Republican party, on average Republican contributions exceed that of Democrats. We can also note that the previous two election cycles, this gap has grown. \n",
    "\n",
    "Based on these plots we can see a trend toward a larger amount of lower dollar amounts being contributed to Democratic candidates. The same trend can be seen in the Republican party, although the decrease is not quite as substantial. This tells us that in the last two cycles more individuals are involved in politics, not just those who can afford to make large contributions. "
   ]
  },
  {
   "cell_type": "markdown",
   "metadata": {},
   "source": [
    "We have excluded the PAC data in the above analysis, however we will invetigate where this portion of contributions is going. "
   ]
  },
  {
   "cell_type": "code",
   "execution_count": 9,
   "metadata": {},
   "outputs": [],
   "source": [
    "pacDF = indivDF[indivDF.Party == 'P']"
   ]
  },
  {
   "cell_type": "code",
   "execution_count": 10,
   "metadata": {
    "scrolled": true
   },
   "outputs": [
    {
     "data": {
      "text/plain": [
       "Text(0.5, 1.0, 'Individual Contributions to PACs')"
      ]
     },
     "execution_count": 10,
     "metadata": {},
     "output_type": "execute_result"
    },
    {
     "data": {
      "image/png": "[encoded data removed]",
      "text/plain": [
       "<Figure size 432x288 with 1 Axes>"
      ]
     },
     "metadata": {},
     "output_type": "display_data"
    }
   ],
   "source": [
    "label=['Ideological','Business','Labor','Unknown','Other']\n",
    "sns.barplot(x='Amount',y= 'Results', data=pacDF)\n",
    "plt.title('Individual Contributions to PACs')"
   ]
  },
  {
   "cell_type": "markdown",
   "metadata": {},
   "source": [
    "Note that individual contributions toward PACs is a small fraction of the total contributions made to individual candidates. As such, we have included all years in the analysis and looked at the affiliation of the PACs, i.e. what causes do they support. Unfortunalty, the graph above does not shed much light onto this question as the largest amounts are contributions to unknown and other categories. "
   ]
  },
  {
   "cell_type": "markdown",
   "metadata": {},
   "source": [
    "Now, we will look at how contributions are correlated to the success of the candidate. "
   ]
  },
  {
   "cell_type": "code",
   "execution_count": 11,
   "metadata": {},
   "outputs": [],
   "source": [
    "winloss = indivDF.loc[np.logical_and.reduce((indivDF.Party != 'U', indivDF.Party != 'P',indivDF.Results != 'I',indivDF.Results != 'N',indivDF.Results != 'P',indivDF.Results != 'C',indivDF.Results != 'O',indivDF.Results != 'K',indivDF.Results != 'B',indivDF.Results != 'U'))]\\\n",
    ".groupby(['Cycle','Party','Results'],as_index=False)['Amount'].sum()"
   ]
  },
  {
   "cell_type": "code",
   "execution_count": 12,
   "metadata": {},
   "outputs": [
    {
     "data": {
      "text/plain": [
       "Text(0.5, 1.0, 'Individual Contributions and Results')"
      ]
     },
     "execution_count": 12,
     "metadata": {},
     "output_type": "execute_result"
    },
    {
     "data": {
      "image/png": "[encoded data removed]",
      "text/plain": [
       "<Figure size 409.975x360 with 1 Axes>"
      ]
     },
     "metadata": {},
     "output_type": "display_data"
    }
   ],
   "source": [
    "colors=['red','green']\n",
    "sns.catplot(x='Cycle',y= 'Amount',hue='Results',palette=colors,kind=\"boxen\", \\\n",
    "            data=winloss)\n",
    "plt.title('Individual Contributions and Results')"
   ]
  },
  {
   "cell_type": "markdown",
   "metadata": {},
   "source": [
    "With the large range in amounts donated, the boxen plot captures more quantiles than that of the standard box plot, thus giving a clearer picture of the distributution, particularly in the the tails. \n",
    "\n",
    "We note from this plot several trends, first, as contributions have increased through election cycles the correlation between winning and recieving more contributions is stronger. We note that the median amount of money recieved for the winning candidate is higher than that of the losing candidate in all years subsequent to year 2000.  \n",
    "\n",
    "Note that in order to produce this plot we dropped several categories, which may distort the results. These categories in the results column include \"I\" for incumbent, \"C\" for Challenger, \"O\" for \"Open Seat\", and \"N\" for Non-incumbent. These were required to be removed as win loss data was not recorded for these groups in the data. Additionally, all PAC codes were reomved.  \n"
   ]
  },
  {
   "cell_type": "markdown",
   "metadata": {},
   "source": [
    "Let's take another look at the win loss data this time across party lines. "
   ]
  },
  {
   "cell_type": "markdown",
   "metadata": {},
   "source": [
    "In order to look at win loss across party lines, we grouped only the individuals who contributed to a candidate who either won or loss. We went through the Party column to lump together the third party, independents, and other into one party (I/O). And we also took out the Unknown party and the PACs."
   ]
  },
  {
   "cell_type": "code",
   "execution_count": 18,
   "metadata": {},
   "outputs": [],
   "source": [
    "indivDF.groupby(['Cycle','Amount','Party','Results']).size()\n",
    "win_df = indivDF.loc[indivDF['Results'] == 'W']\n",
    "loss_df = indivDF.loc[indivDF['Results'] == 'L']\n",
    "frame = [win_df,loss_df]\n",
    "win_loss = pd.concat(frame)"
   ]
  },
  {
   "cell_type": "code",
   "execution_count": 19,
   "metadata": {},
   "outputs": [],
   "source": [
    "# took out the Unknown party and lumped together third party and other\n",
    "win_loss = win_loss.loc[win_loss.Party != 'U']\n",
    "win_loss = win_loss.loc[win_loss.Party != 'P']\n",
    "win_loss.replace({'Party': {'3': 'I/O', 'O': 'I/O'}}, inplace=True)"
   ]
  },
  {
   "cell_type": "code",
   "execution_count": 20,
   "metadata": {},
   "outputs": [
    {
     "data": {
      "text/plain": [
       "<matplotlib.axes._subplots.AxesSubplot at 0x14833fd30>"
      ]
     },
     "execution_count": 20,
     "metadata": {},
     "output_type": "execute_result"
    },
    {
     "data": {
      "image/png": "[encoded data removed]",
      "text/plain": [
       "<Figure size 1080x504 with 2 Axes>"
      ]
     },
     "metadata": {},
     "output_type": "display_data"
    }
   ],
   "source": [
    "# set the range under 1000 and above 0 to get a better represention of the results \n",
    "import matplotlib.pyplot as plt\n",
    "win_loss1 = win_loss.loc[win_loss.Amount.apply(lambda x: 0 < x < 1000)]\n",
    "\n",
    "f, axes = plt.subplots(1, 2,figsize=(15,7))\n",
    "\n",
    "colors=['blue','red','mediumorchid']\n",
    "sns.boxplot(x=\"Results\", y=\"Amount\", hue=\"Party\",\n",
    "             palette=colors, data=win_loss,ax=axes[0])\n",
    "\n",
    "sns.boxplot(x=\"Results\", y=\"Amount\", hue=\"Party\",\n",
    "             palette=colors, data=win_loss1,ax=axes[1])"
   ]
  },
  {
   "cell_type": "markdown",
   "metadata": {},
   "source": [
    "This boxplot is a representation of the different amounts given over all of the years to the three different parties and breaks them up by the results. There was a wide range on amounts donated, so we scaled the right boxplot to only show the amounts ranging from 0 to 1000 to take a better look at where the majority of the amounts donated fell under. The mean amount didn't differ between the parties or the results, with the exception of the Democratic party and the losing candidates. In the Republican party, more money has been contributed toward losing campaigns, whereas for the Democrats, the opposite is true. An interesting note is that individual contributions to third party winning candidates never went over 600."
   ]
  },
  {
   "cell_type": "markdown",
   "metadata": {},
   "source": [
    "The table shows the summary statistics of the total contributions for winning and losing candidates from each year."
   ]
  },
  {
   "cell_type": "markdown",
   "metadata": {},
   "source": [
    "# Political Contributions by Party for Colorado counties"
   ]
  },
  {
   "cell_type": "markdown",
   "metadata": {},
   "source": [
    "## 1992\n",
    "<img src=\"maps/map_1992.png\">\n",
    "## 1996\n",
    "<img src=\"maps/map_1996.png\">\n",
    "## 2000\n",
    "<img src=\"maps/map_2000.png\">\n",
    "## 2004\n",
    "<img src=\"maps/map_2004.png\">\n",
    "## 2008\n",
    "<img src=\"maps/map_2008.png\">\n",
    "## 2012\n",
    "<img src=\"maps/map_2012.png\">\n",
    "## 2016\n",
    "<img src=\"maps/map_2016.png\">"
   ]
  },
  {
   "cell_type": "code",
   "execution_count": null,
   "metadata": {},
   "outputs": [],
   "source": []
  }
 ],
 "metadata": {
  "kernelspec": {
   "display_name": "Python 3",
   "language": "python",
   "name": "python3"
  },
  "language_info": {
   "codemirror_mode": {
    "name": "ipython",
    "version": 3
   },
   "file_extension": ".py",
   "mimetype": "text/x-python",
   "name": "python",
   "nbconvert_exporter": "python",
   "pygments_lexer": "ipython3",
   "version": "3.6.8"
  }
 },
 "nbformat": 4,
 "nbformat_minor": 2
}
