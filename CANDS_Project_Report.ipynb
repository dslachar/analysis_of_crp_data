{
 "cells": [
  {
   "cell_type": "code",
   "execution_count": 342,
   "metadata": {},
   "outputs": [],
   "source": [
    "import pandas as pd\n",
    "import seaborn as sns\n",
    "import numpy as np\n",
    "from collections import defaultdict"
   ]
  },
  {
   "cell_type": "code",
   "execution_count": 416,
   "metadata": {},
   "outputs": [],
   "source": [
    "# Read in pickle files for each year \n",
    "cand00 = pd.read_pickle('/Users/david/Documents/data.science.tools1/git_project/analysis_of_crp_data/data/CampaignFin00/cands00.pkl')\n",
    "cand04 = pd.read_pickle('/Users/david/Documents/data.science.tools1/git_project/analysis_of_crp_data/data/CampaignFin04/cands04.pkl')\n",
    "cand08 = pd.read_pickle('/Users/david/Documents/data.science.tools1/git_project/analysis_of_crp_data/data/CampaignFin08/cands08.pkl')\n",
    "cand92 = pd.read_pickle('/Users/david/Documents/data.science.tools1/git_project/analysis_of_crp_data/data/CampaignFin92/cands92.pkl')\n",
    "cand96 = pd.read_pickle('/Users/david/Documents/data.science.tools1/git_project/analysis_of_crp_data/data/CampaignFin96/cands96.pkl')\n",
    "cand12 = pd.read_pickle('/Users/david/Documents/data.science.tools1/git_project/analysis_of_crp_data/data/CampaignFin12/cands12.pkl')\n",
    "cand16 = pd.read_pickle('/Users/david/Documents/data.science.tools1/git_project/analysis_of_crp_data/data/CampaignFin16/cands16.pkl')"
   ]
  },
  {
   "cell_type": "code",
   "execution_count": 417,
   "metadata": {},
   "outputs": [],
   "source": [
    "# Make one df with all years include only CO candidates\n",
    "frames = [cand92,cand96,cand00,cand04,cand08,cand12,cand16]\n",
    "cand_df = pd.concat(frames,ignore_index=True)\n",
    "# Update names of the columns \n",
    "cand_df = cand_df.rename(index=str, columns={\"RecipID\": \"Party\", \"Orgname\": \"DistIDRunFor\", \"UltOrg\": \\\n",
    "                                             \"DistIDCurr\", \"RealCode\":\"CurrCand\", \"Date\": \"CycleCand\", \\\n",
    "                                             \"RecipCode\": \"WinLoss\"})\n",
    "cand_df.DistIDRunFor.str.contains('CO')\n",
    "candCO_df = cand_df.loc[cand_df.DistIDRunFor.str.contains('CO')]\n",
    "candCO_df.index = np.arange(len(candCO_df))"
   ]
  },
  {
   "cell_type": "code",
   "execution_count": 418,
   "metadata": {},
   "outputs": [
    {
     "name": "stderr",
     "output_type": "stream",
     "text": [
      "/anaconda3/lib/python3.7/site-packages/pandas/core/indexing.py:635: SettingWithCopyWarning: \n",
      "A value is trying to be set on a copy of a slice from a DataFrame.\n",
      "Try using .loc[row_indexer,col_indexer] = value instead\n",
      "\n",
      "See the caveats in the documentation: http://pandas.pydata.org/pandas-docs/stable/indexing.html#indexing-view-versus-copy\n",
      "  self.obj[item_labels[indexer[info_axis]]] = value\n"
     ]
    }
   ],
   "source": [
    "# Convert column to string remove duplicate information, 'CO' and party in Win/Loss column\n",
    "candCO_df.loc[:,'DistIDRunFor'] = candCO_df.loc[:,'DistIDRunFor'].astype(str)\n",
    "candCO_df.loc[:,'DistIDRunFor'] = candCO_df.loc[:,'DistIDRunFor'].apply(lambda x: pd.Series(str(x).replace('CO','')))\n",
    "candCO_df.loc[:,'WinLoss'] = candCO_df.loc[:,'WinLoss'].apply(lambda x: pd.Series(str(x).replace(x[:1],'')))"
   ]
  },
  {
   "cell_type": "code",
   "execution_count": 419,
   "metadata": {},
   "outputs": [
    {
     "name": "stderr",
     "output_type": "stream",
     "text": [
      "/anaconda3/lib/python3.7/site-packages/ipykernel_launcher.py:10: SettingWithCopyWarning: \n",
      "A value is trying to be set on a copy of a slice from a DataFrame.\n",
      "Try using .loc[row_indexer,col_indexer] = value instead\n",
      "\n",
      "See the caveats in the documentation: http://pandas.pydata.org/pandas-docs/stable/indexing.html#indexing-view-versus-copy\n",
      "  # Remove the CWD from sys.path while we load stuff.\n"
     ]
    }
   ],
   "source": [
    "# Add column to associate candidate to either senate or house\n",
    "SenateHouse = defaultdict()\n",
    "for i in range(len(candCO_df)):\n",
    "    seat = candCO_df.DistIDRunFor[i]\n",
    "    if seat == 'S1' or seat == 'S2':\n",
    "        SenateHouse[i] = 'Senate'\n",
    "    elif seat == '01' or seat == '02' or seat == '03' or seat == '04' or seat == '05' \\\n",
    "    or seat == '06' or seat == '07':\n",
    "        SenateHouse[i] = 'House'\n",
    "candCO_df[\"Seat\"]  = pd.Series(SenateHouse)"
   ]
  },
  {
   "cell_type": "code",
   "execution_count": 426,
   "metadata": {},
   "outputs": [],
   "source": [
    "candCO_df.to_pickle('candCO_df.pkl')"
   ]
  },
  {
   "cell_type": "code",
   "execution_count": 420,
   "metadata": {},
   "outputs": [],
   "source": [
    "# Copy df in order to drop the one instance of 'Unknown' in Party Data and further manipulate df by party \n",
    "candCO_dfCopy = candCO_df"
   ]
  },
  {
   "cell_type": "code",
   "execution_count": 421,
   "metadata": {},
   "outputs": [
    {
     "name": "stderr",
     "output_type": "stream",
     "text": [
      "/anaconda3/lib/python3.7/site-packages/pandas/core/generic.py:6517: SettingWithCopyWarning: \n",
      "A value is trying to be set on a copy of a slice from a DataFrame.\n",
      "Try using .loc[row_indexer,col_indexer] = value instead\n",
      "\n",
      "See the caveats in the documentation: http://pandas.pydata.org/pandas-docs/stable/indexing.html#indexing-view-versus-copy\n",
      "  regex=regex)\n"
     ]
    }
   ],
   "source": [
    "# Because of the low numbers of Independent (I), Libertarian (L), and Other 3rd Party (3), combined to one \n",
    "# Independent/Other category  \n",
    "candCO_dfCopy.loc[:,'Party'] = candCO_dfCopy.loc[:,'Party'].astype(str) \n",
    "candCO_dfCopy.replace({'Party': {'3': 'I/O', 'I': 'I/O', 'L': 'I/O'}}, inplace=True)"
   ]
  },
  {
   "cell_type": "code",
   "execution_count": 422,
   "metadata": {},
   "outputs": [
    {
     "name": "stderr",
     "output_type": "stream",
     "text": [
      "/anaconda3/lib/python3.7/site-packages/ipykernel_launcher.py:2: UserWarning: Boolean Series key will be reindexed to match DataFrame index.\n",
      "  \n",
      "/anaconda3/lib/python3.7/site-packages/ipykernel_launcher.py:4: UserWarning: Boolean Series key will be reindexed to match DataFrame index.\n",
      "  after removing the cwd from sys.path.\n"
     ]
    }
   ],
   "source": [
    "# Drop the one instance of 'Unknown' in Party Data and group by count of candidates based on cycle, seat and party\n",
    "House_df = candCO_dfCopy[candCO_dfCopy.Party != 'U'][candCO_dfCopy.Seat == 'House'].groupby(['Cycle','Seat','Party'])\\\n",
    ".size().reset_index(name='counts')\n",
    "Senate_df = candCO_dfCopy[candCO_dfCopy.Party != 'U'][candCO_dfCopy.Seat == 'Senate']\\\n",
    ".groupby(['Cycle','Seat','Party']).size().reset_index(name='counts')"
   ]
  },
  {
   "cell_type": "code",
   "execution_count": 423,
   "metadata": {},
   "outputs": [
    {
     "data": {
      "text/plain": [
       "<seaborn.axisgrid.FacetGrid at 0x1a28890550>"
      ]
     },
     "execution_count": 423,
     "metadata": {},
     "output_type": "execute_result"
    },
    {
     "data": {
      "image/png": "[encoded data removed]",
      "text/plain": [
       "<Figure size 414.1x360 with 1 Axes>"
      ]
     },
     "metadata": {},
     "output_type": "display_data"
    }
   ],
   "source": [
    "sns.set(style=\"darkgrid\")\n",
    "colors=['blue','mediumorchid','red']\n",
    "sns.catplot(x='Cycle',y='counts',hue='Party',palette=colors,kind=\"bar\", \\\n",
    "            data=House_df).set_titles('Number of House Candidates')"
   ]
  },
  {
   "cell_type": "code",
   "execution_count": 424,
   "metadata": {},
   "outputs": [
    {
     "data": {
      "text/plain": [
       "<seaborn.axisgrid.FacetGrid at 0x1a2882bbe0>"
      ]
     },
     "execution_count": 424,
     "metadata": {},
     "output_type": "execute_result"
    },
    {
     "data": {
      "image/png": "[encoded data removed]",
      "text/plain": [
       "<Figure size 414.1x360 with 1 Axes>"
      ]
     },
     "metadata": {},
     "output_type": "display_data"
    }
   ],
   "source": [
    "sns.catplot(x='Cycle',y='counts',hue='Party',palette=colors,kind=\"bar\", data=Senate_df)"
   ]
  },
  {
   "cell_type": "code",
   "execution_count": null,
   "metadata": {},
   "outputs": [],
   "source": []
  }
 ],
 "metadata": {
  "kernelspec": {
   "display_name": "Python 3",
   "language": "python",
   "name": "python3"
  },
  "language_info": {
   "codemirror_mode": {
    "name": "ipython",
    "version": 3
   },
   "file_extension": ".py",
   "mimetype": "text/x-python",
   "name": "python",
   "nbconvert_exporter": "python",
   "pygments_lexer": "ipython3",
   "version": "3.7.1"
  }
 },
 "nbformat": 4,
 "nbformat_minor": 2
}
