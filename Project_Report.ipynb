{
 "cells": [
  {
   "cell_type": "markdown",
   "metadata": {},
   "source": [
    "## Dataset and motivation slide\n",
    "- How/why dataset was collected and describe the meta data of your dataset."
   ]
  },
  {
   "cell_type": "markdown",
   "metadata": {},
   "source": []
  },
  {
   "cell_type": "markdown",
   "metadata": {},
   "source": [
    "## Actual task definition/Research Question\n",
    "- What real-world problem you trying to solve. **What is input and output of your analysis.**"
   ]
  },
  {
   "cell_type": "markdown",
   "metadata": {},
   "source": []
  },
  {
   "cell_type": "markdown",
   "metadata": {},
   "source": [
    "## Literature review\n",
    "- What other work has been done in this area and how is your work novel compared to others."
   ]
  },
  {
   "cell_type": "markdown",
   "metadata": {},
   "source": []
  },
  {
   "cell_type": "markdown",
   "metadata": {},
   "source": [
    "## Quality of cleaning\n",
    "- Data Cleaning and type conversion activity. Anything unusual you faced during this activity. Please share.\n",
    "- What you did about missing values and why?\n",
    "- Data summary statistics and interpretation."
   ]
  },
  {
   "cell_type": "markdown",
   "metadata": {},
   "source": []
  },
  {
   "cell_type": "markdown",
   "metadata": {},
   "source": [
    "## Visualization\n",
    "- Data Visualization activity(box plot, bar plot, violin plot, pairplot to see relationship and distribution etc).\n",
    "- Describe any thing you find in the data after each visualization.\n",
    "- What data visualization help you understanding data distribution.\n",
    "- What did you do about possible outlier as per data distribution visualization. (Did you confirm it with your client if it is actually an outlier or put a disclosure statement in notebook if you decided to remove it.)"
   ]
  },
  {
   "cell_type": "markdown",
   "metadata": {},
   "source": []
  },
  {
   "cell_type": "code",
   "execution_count": 235,
   "metadata": {
    "scrolled": false
   },
   "outputs": [],
   "source": [
    "import pandas as pd\n",
    "import numpy as np\n",
    "indivs92_df = pd.read_pickle('/Users/gameonsammy/Documents/DU/Data_Tools/analysis_of_crp_data/data/CampaignFin92/indivs92.pkl')\n",
    "indivs96_df = pd.read_pickle('/Users/gameonsammy/Documents/DU/Data_Tools/analysis_of_crp_data/data/CampaignFin96/indivs96.pkl')\n",
    "indivs00_df = pd.read_pickle('/Users/gameonsammy/Documents/DU/Data_Tools/analysis_of_crp_data/data/CampaignFin00/indivs00.pkl')\n",
    "indivs04_df = pd.read_pickle('/Users/gameonsammy/Documents/DU/Data_Tools/analysis_of_crp_data/data/CampaignFin04/indivs04.pkl')\n",
    "indivs08_df = pd.read_pickle('/Users/gameonsammy/Documents/DU/Data_Tools/analysis_of_crp_data/data/CampaignFin08/indivs08.pkl')\n",
    "indivs12_df = pd.read_pickle('/Users/gameonsammy/Documents/DU/Data_Tools/analysis_of_crp_data/data/CampaignFin12/indivs12.pkl')\n",
    "\n",
    "# create a dataframe of all the individuals data \n",
    "frames = [indivs92_df,indivs96_df,indivs00_df,indivs04_df,indivs08_df,indivs12_df]\n",
    "indivs_df = pd.concat(frames,ignore_index=True)\n",
    "\n",
    "# change the dtype from object to integer of Amount \n",
    "indivs_df['Amount'] = indivs_df['Amount'].apply(lambda x: int(x))\n",
    "\n",
    "# group the dataframe by Cycle\n",
    "cycle_df = indivs_df.groupby('Cycle')\n"
   ]
  },
  {
   "cell_type": "code",
   "execution_count": 236,
   "metadata": {},
   "outputs": [],
   "source": [
    "def group_years(i):\n",
    "    '''Extracts total amount of contributions from each year. Returns the year, total amount, and \n",
    "    number of contributions'''\n",
    "    \n",
    "    year = i\n",
    "    amount = cycle_df.get_group(i).Amount.sum()\n",
    "    contrib = len(cycle_df.get_group(i))\n",
    "   \n",
    "    return [[year,amount,contrib]]"
   ]
  },
  {
   "cell_type": "code",
   "execution_count": 237,
   "metadata": {},
   "outputs": [
    {
     "data": {
      "text/html": [
       "<div>\n",
       "<style scoped>\n",
       "    .dataframe tbody tr th:only-of-type {\n",
       "        vertical-align: middle;\n",
       "    }\n",
       "\n",
       "    .dataframe tbody tr th {\n",
       "        vertical-align: top;\n",
       "    }\n",
       "\n",
       "    .dataframe thead th {\n",
       "        text-align: right;\n",
       "    }\n",
       "</style>\n",
       "<table border=\"1\" class=\"dataframe\">\n",
       "  <thead>\n",
       "    <tr style=\"text-align: right;\">\n",
       "      <th></th>\n",
       "      <th>Year</th>\n",
       "      <th>Total_Amount</th>\n",
       "      <th>Total_Contributions</th>\n",
       "    </tr>\n",
       "  </thead>\n",
       "  <tbody>\n",
       "    <tr>\n",
       "      <th>0</th>\n",
       "      <td>1992</td>\n",
       "      <td>7113570</td>\n",
       "      <td>10898</td>\n",
       "    </tr>\n",
       "    <tr>\n",
       "      <th>1</th>\n",
       "      <td>1996</td>\n",
       "      <td>13774660</td>\n",
       "      <td>18728</td>\n",
       "    </tr>\n",
       "    <tr>\n",
       "      <th>2</th>\n",
       "      <td>2000</td>\n",
       "      <td>21976086</td>\n",
       "      <td>22284</td>\n",
       "    </tr>\n",
       "    <tr>\n",
       "      <th>3</th>\n",
       "      <td>2004</td>\n",
       "      <td>39929759</td>\n",
       "      <td>49145</td>\n",
       "    </tr>\n",
       "    <tr>\n",
       "      <th>4</th>\n",
       "      <td>2008</td>\n",
       "      <td>72180357</td>\n",
       "      <td>79315</td>\n",
       "    </tr>\n",
       "    <tr>\n",
       "      <th>5</th>\n",
       "      <td>2012</td>\n",
       "      <td>82503809</td>\n",
       "      <td>80692</td>\n",
       "    </tr>\n",
       "  </tbody>\n",
       "</table>\n",
       "</div>"
      ],
      "text/plain": [
       "   Year Total_Amount  Total_Contributions\n",
       "0  1992      7113570                10898\n",
       "1  1996     13774660                18728\n",
       "2  2000     21976086                22284\n",
       "3  2004     39929759                49145\n",
       "4  2008     72180357                79315\n",
       "5  2012     82503809                80692"
      ]
     },
     "execution_count": 237,
     "metadata": {},
     "output_type": "execute_result"
    }
   ],
   "source": [
    "# goes through each of the years to create the total sum dataframe\n",
    "total_df = pd.DataFrame(columns=['Year','Total_Amount','Total_Contributions'])\n",
    "years = ['1992','1996','2000','2004','2008','2012']\n",
    "for i in years:\n",
    "    total_df = total_df.append(pd.DataFrame(group_years(i),columns=['Year','Total_Amount','Total_Contributions']))\n",
    "\n",
    "# change datatype of total_contrib and reindex dataframe\n",
    "total_df.Total_Contributions = total_df.Total_Contributions.astype(int)\n",
    "total_df = total_df.reset_index(drop=True)\n",
    "total_df"
   ]
  },
  {
   "cell_type": "code",
   "execution_count": 238,
   "metadata": {},
   "outputs": [
    {
     "data": {
      "text/plain": [
       "<seaborn.axisgrid.FacetGrid at 0x1537cf240>"
      ]
     },
     "execution_count": 238,
     "metadata": {},
     "output_type": "execute_result"
    },
    {
     "data": {
      "image/png": "[encoded data removed]",
      "text/plain": [
       "<Figure size 360x360 with 1 Axes>"
      ]
     },
     "metadata": {
      "needs_background": "light"
     },
     "output_type": "display_data"
    }
   ],
   "source": [
    "import seaborn as sns\n",
    "sns.catplot(x='Year', y='Total_Amount', kind=\"bar\", data=total_df)\n",
    "# put amount and contrib side-by-side"
   ]
  },
  {
   "cell_type": "code",
   "execution_count": null,
   "metadata": {},
   "outputs": [],
   "source": []
  }
 ],
 "metadata": {
  "kernelspec": {
   "display_name": "Python 3",
   "language": "python",
   "name": "python3"
  },
  "language_info": {
   "codemirror_mode": {
    "name": "ipython",
    "version": 3
   },
   "file_extension": ".py",
   "mimetype": "text/x-python",
   "name": "python",
   "nbconvert_exporter": "python",
   "pygments_lexer": "ipython3",
   "version": "3.7.0"
  }
 },
 "nbformat": 4,
 "nbformat_minor": 2
}
