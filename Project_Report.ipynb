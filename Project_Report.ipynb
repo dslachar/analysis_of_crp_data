{
 "cells": [
  {
   "cell_type": "markdown",
   "metadata": {},
   "source": [
    "## Dataset and motivation slide\n",
    "- How/why dataset was collected and describe the meta data of your dataset."
   ]
  },
  {
   "cell_type": "markdown",
   "metadata": {},
   "source": []
  },
  {
   "cell_type": "markdown",
   "metadata": {},
   "source": [
    "## Actual task definition/Research Question\n",
    "- What real-world problem you trying to solve. **What is input and output of your analysis.**"
   ]
  },
  {
   "cell_type": "markdown",
   "metadata": {},
   "source": []
  },
  {
   "cell_type": "markdown",
   "metadata": {},
   "source": [
    "## Literature review\n",
    "- What other work has been done in this area and how is your work novel compared to others."
   ]
  },
  {
   "cell_type": "markdown",
   "metadata": {},
   "source": []
  },
  {
   "cell_type": "markdown",
   "metadata": {},
   "source": [
    "## Quality of cleaning\n",
    "- Data Cleaning and type conversion activity. Anything unusual you faced during this activity. Please share.\n",
    "- What you did about missing values and why?\n",
    "- Data summary statistics and interpretation."
   ]
  },
  {
   "cell_type": "markdown",
   "metadata": {},
   "source": []
  },
  {
   "cell_type": "markdown",
   "metadata": {},
   "source": [
    "## Visualization\n",
    "- Data Visualization activity(box plot, bar plot, violin plot, pairplot to see relationship and distribution etc).\n",
    "- Describe any thing you find in the data after each visualization.\n",
    "- What data visualization help you understanding data distribution.\n",
    "- What did you do about possible outlier as per data distribution visualization. (Did you confirm it with your client if it is actually an outlier or put a disclosure statement in notebook if you decided to remove it.)"
   ]
  },
  {
   "cell_type": "markdown",
   "metadata": {},
   "source": []
  }
 ],
 "metadata": {
  "kernelspec": {
   "display_name": "Python 3",
   "language": "python",
   "name": "python3"
  },
  "language_info": {
   "codemirror_mode": {
    "name": "ipython",
    "version": 3
   },
   "file_extension": ".py",
   "mimetype": "text/x-python",
   "name": "python",
   "nbconvert_exporter": "python",
   "pygments_lexer": "ipython3",
   "version": "3.7.0"
  }
 },
 "nbformat": 4,
 "nbformat_minor": 2
}
